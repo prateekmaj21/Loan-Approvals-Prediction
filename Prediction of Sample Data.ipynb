{
 "cells": [
  {
   "cell_type": "code",
   "execution_count": 3,
   "id": "f79fe383-e91a-4a76-8de7-9df4d799f6c1",
   "metadata": {},
   "outputs": [
    {
     "name": "stdout",
     "output_type": "stream",
     "text": [
      "1\n"
     ]
    },
    {
     "name": "stderr",
     "output_type": "stream",
     "text": [
      "d:\\ProgramData\\anaconda3\\Lib\\site-packages\\sklearn\\base.py:439: UserWarning: X does not have valid feature names, but StandardScaler was fitted with feature names\n",
      "  warnings.warn(\n"
     ]
    }
   ],
   "source": [
    "from pickle import load\n",
    "\n",
    "# load the model\n",
    "model = load(open('model.pkl', 'rb'))\n",
    "# load the scaler\n",
    "scaler = load(open('scaler.pkl', 'rb'))\n",
    "\n",
    "sample=([[   1,    1,  0,  9100000, 29700000, 20, 700,  7100000,  4500000, 33300000, 12800000]])\n",
    "\n",
    "# Scale the sample\n",
    "sample_scaled = scaler.transform(sample)\n",
    "\n",
    "sample_prediction = model.predict(sample_scaled)\n",
    "\n",
    "print(sample_prediction[0])"
   ]
  },
  {
   "cell_type": "code",
   "execution_count": null,
   "id": "ccf70d49-d479-41b3-8ed7-93d4c8c55a6b",
   "metadata": {},
   "outputs": [],
   "source": []
  }
 ],
 "metadata": {
  "kernelspec": {
   "display_name": "Python 3 (ipykernel)",
   "language": "python",
   "name": "python3"
  },
  "language_info": {
   "codemirror_mode": {
    "name": "ipython",
    "version": 3
   },
   "file_extension": ".py",
   "mimetype": "text/x-python",
   "name": "python",
   "nbconvert_exporter": "python",
   "pygments_lexer": "ipython3",
   "version": "3.11.7"
  }
 },
 "nbformat": 4,
 "nbformat_minor": 5
}
